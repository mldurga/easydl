{
  "nbformat": 4,
  "nbformat_minor": 0,
  "metadata": {
    "colab": {
      "name": "scratchpad",
      "provenance": [],
      "include_colab_link": true
    },
    "kernelspec": {
      "display_name": "Python 3",
      "name": "python3"
    }
  },
  "cells": [
    {
      "cell_type": "markdown",
      "metadata": {
        "id": "view-in-github",
        "colab_type": "text"
      },
      "source": [
        "<a href=\"https://colab.research.google.com/github/mldurga/easydl/blob/master/_notebooks/2021-08-26-MIT_exercise_2.ipynb\" target=\"_parent\"><img src=\"https://colab.research.google.com/assets/colab-badge.svg\" alt=\"Open In Colab\"/></a>"
      ]
    },
    {
      "cell_type": "code",
      "metadata": {
        "id": "lIYdn1woOS1n"
      },
      "source": [
        ""
      ],
      "execution_count": null,
      "outputs": []
    },
    {
      "cell_type": "markdown",
      "metadata": {
        "id": "VD2FliGzMksO"
      },
      "source": [
        "# Missing semester MIT Exercise 2 Solutions\n",
        "\n",
        "MIT Missing semester [Lectures](https://missing.csail.mit.edu/) are greatly helps one to work with terminal, git -version control systems, data wrangling etc... Here I have listed out solutions for the exercises of each lecture."
      ]
    },
    {
      "cell_type": "markdown",
      "metadata": {
        "id": "G1_Cq5wPNpVd"
      },
      "source": [
        "1. Read __man ls__ and write an ls command that lists files in the following manner\n",
        "Includes all files, including hidden files\n",
        "Sizes are listed in human readable format (e.g. 454M instead of 454279954)\n",
        "Files are ordered by recency\n",
        "Output is colorized"
      ]
    },
    {
      "cell_type": "code",
      "metadata": {
        "id": "tKUdNYjON6OO",
        "outputId": "6106d6bc-45ff-4d8d-e90d-665694629642",
        "colab": {
          "base_uri": "https://localhost:8080/"
        }
      },
      "source": [
        "!ls -laht --color=always"
      ],
      "execution_count": 3,
      "outputs": [
        {
          "output_type": "stream",
          "text": [
            "total 28K\n",
            "drwxr-xr-x 1 root root 4.0K Aug 26 06:56 \u001b[0m\u001b[01;34m.\u001b[0m\n",
            "drwxr-xr-x 2 root root 4.0K Aug 26 06:56 \u001b[01;34mbar\u001b[0m\n",
            "drwxr-xr-x 2 root root 4.0K Aug 26 06:56 \u001b[01;34mfoo\u001b[0m\n",
            "drwxr-xr-x 2 root root 4.0K Aug 26 06:56 \u001b[01;34mfooob\u001b[0m\n",
            "drwxr-xr-x 1 root root 4.0K Aug 26 06:41 \u001b[01;34m..\u001b[0m\n",
            "drwxr-xr-x 1 root root 4.0K Aug 13 13:35 \u001b[01;34msample_data\u001b[0m\n",
            "drwxr-xr-x 4 root root 4.0K Aug 13 13:34 \u001b[01;34m.config\u001b[0m\n"
          ],
          "name": "stdout"
        }
      ]
    },
    {
      "cell_type": "code",
      "metadata": {
        "id": "zWDmFMwrPfJO"
      },
      "source": [
        ""
      ],
      "execution_count": null,
      "outputs": []
    }
  ]
}