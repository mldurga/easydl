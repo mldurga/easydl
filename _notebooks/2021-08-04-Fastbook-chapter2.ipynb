{
  "nbformat": 4,
  "nbformat_minor": 5,
  "metadata": {
    "kernelspec": {
      "display_name": "Python 3",
      "language": "python",
      "name": "python3"
    },
    "language_info": {
      "codemirror_mode": {
        "name": "ipython",
        "version": 3
      },
      "file_extension": ".py",
      "mimetype": "text/x-python",
      "name": "python",
      "nbconvert_exporter": "python",
      "pygments_lexer": "ipython3",
      "version": "3.8.8"
    },
    "colab": {
      "name": "2021-08-04-Fastbook-chapter2.ipynb",
      "provenance": []
    }
  },
  "cells": [
    {
      "cell_type": "markdown",
      "metadata": {
        "id": "52ee6854"
      },
      "source": [
        "# \"Fastai Chapter 2\"\n",
        "> \"Want to find Modi beard from 2014 or 2019\"\n",
        "\n",
        "- toc: false\n",
        "- branch: master\n",
        "- badges: true\n",
        "- comments: true\n",
        "- categories: [fastpages, jupyter]\n",
        "- image: images/some_folder/your_image.png\n",
        "- hide: false\n",
        "- search_exclude: true\n",
        "- metadata_key1: metadata_value1\n",
        "- metadata_key2: metadata_value2"
      ],
      "id": "52ee6854"
    },
    {
      "cell_type": "markdown",
      "metadata": {
        "id": "3f07b004"
      },
      "source": [
        "## What is Fastai \n",
        "\n",
        "Fastai is front runner and research organisation working on making Deep Learning as democratic as possible with beautiful community support. Fastai in a way cutshorts the path needed for one to become a great ML practitioner and honestly stands to the title of its popular book: [__Deep Learning for coders with fastai & PyTorch (AI Applicaitons without a PhD)__](https://www.amazon.in/Deep-Learning-Coders-fastai-PyTorch/dp/1492045527/ref=sr_1_1?dchild=1&keywords=jeremy+howard&qid=1627333514&sr=8-1). I sincearly want to thank __Mr Jeremy Howard and Mr Sylvain Gugger__ for presenting such an awesome gem in just 600 pages. The series of posts that I am going to write on this book is in a way to solidfy my understanding of the concepts taught in the book and practice writing as encouraged greatly by authors and community. I hope this turns out to be good source to refer for me and beginners who are just behind me. "
      ],
      "id": "3f07b004"
    },
    {
      "cell_type": "markdown",
      "metadata": {
        "id": "d703e7d2"
      },
      "source": [
        "## What tools do you need\n",
        "\n",
        "Mind you we are just beginners and we dont need anything more than [Google colab scratchpad](https://colab.research.google.com/notebooks/empty.ipynb). This will spinup notebook with free GPU (Graphical Processing Unit) for you with just click of a mouse. Great colab tips can be found [here](https://amitness.com/2020/06/google-colaboratory-tips/). Full server notebooks like GCP and AWS instances are still difficult to setup for complete beginners like me. Believe me, I have spent one whole month in understanding how to setup GCP instance. Now almost all the time I spinup colab for any course work for its ease and simplicity. People like [Zachery Mueller](https://github.com/muellerzr), who is like poster child for fastai community, prefers to practice with colab.  "
      ],
      "id": "d703e7d2"
    },
    {
      "cell_type": "markdown",
      "metadata": {
        "id": "c4055d00"
      },
      "source": [
        "## Domains of Deep Learning\n",
        "\n",
        "Deep learning can be applied to wide variety of tasks and tinkering mindset can force one to enable applying it in creative ways. The increasing availabilty of data in any field will provide possible use case and can leverage new insights. However, the current research and practice broadly falls under following categories.\n",
        "\n",
        "### Computer Vision:\n",
        "\n",
        "What do you think Tesla FSD (Full Self Driving) cars equipped with for its Autopilot system? Computer vision plays central bedrock role for autonomous driving. Today computers are as good as people in identifying objects in an image using their neural networks. We take up computer vision in this chapter and slowly expand to other domains as course progress. Any deep learning system predictions depend on the quality of the training data that we provide. Certainly this book provides tools and strategies to get state of the art accuracy with innovative methods even with limited data.\n",
        "\n",
        "### Natural Language Processing NLP:\n",
        " \n",
        "Did you ever hear GPT-3, GPT-2, Transformers, Huggingface, twitter bots, google translate etc. in deep learning space, then all these terms belong to text domain of deep learning. This domain deals with how computers handles text data and its response for a specified task. Today NLP tasks ranges from classifying documents, sentiment analysis (positive, negetive), summarising documents, context appropriate text generation etc. Downside of technology ranges from 'throwing abuses by bot' to 'bot generated twitter trolls at massive scale'. However, Google translate massively used by people in ever increasing multicultural society of today.\n",
        "\n",
        "### Tabular Data & RecSys:\n",
        "\n",
        "Most common ML applications we find at industry is tabular data based. Though traditional ML techniques like random forests and gradient boost techniques still hold good, deep learning offlate making strides into tabular data domain. RecSys - Recommendation System is also type of tabular data but the data is highly cardinal and deep learning can be applied to such data with good results. E-commerce websites like amazon applies deep learning techniques for its user-table to recommend products.  "
      ],
      "id": "c4055d00"
    },
    {
      "cell_type": "markdown",
      "metadata": {
        "id": "968023dd"
      },
      "source": [
        "## Thinking Approach\n",
        "\n",
        "When solving any problem at hand with ML and deep learning techniques, the fundamental thinking approach should be the predictions of the model should be helpful to the real world. Jeremy Howard named this approach as __Drivetrain Approach__ and his elegant presentation can be seen [here](https://www.youtube.com/watch?v=vYrWTDxoeGg&ab_channel=O%27Reilly). His key ideas are as follows:\n",
        "1. Objective: What outcome am I trying to achieve\n",
        "2. Levers: What inputs can we control\n",
        "3. Data: What data can we collect\n",
        "4. Models: How the levers influence the objective\n",
        "\n",
        "Thouogh seemingly simple concept, its application in real world has great impact on the outcome of the modeling. Ingeneral the data we have on hand may not be causal and the outcomes may not represent the actual conditions. If we can control certain input conditions by injecting randomness the causal relationships can be collected and new data will become food for the model and thus accuracy of the predictions can be improved.     "
      ],
      "id": "968023dd"
    },
    {
      "cell_type": "markdown",
      "metadata": {
        "id": "79460b01"
      },
      "source": [
        "## Lets Dive In\n",
        "\n",
        "To make your first dive in experience into deep learning little more interesting, I have choosen a \"Beard Modi\" project. Interesting..! yes. You upload any of the present Indian PM \"Narendra modi\" image, my app will tell wether the image is \"2014 Modi\" or \"2021 Modi\". This we are doing with computer vision deep learning techniques. This notebook will detail each and every step of the process.\n",
        "\n",
        "### Gathering Data\n",
        "Though \"Bing Image Search\" was the primary source referred by book, offlate course.fast.ai website given alternative DuckDuckGo as this one dont need any key. Please read docs for more information on [this](https://course.fast.ai/images#DuckDuckGo). \n"
      ],
      "id": "79460b01"
    },
    {
      "cell_type": "code",
      "metadata": {
        "id": "59bc58f3"
      },
      "source": [
        "#hide\n",
        "!pip install fastbook -Uqq\n",
        "import fastbook\n",
        "fastbook.setup_book()"
      ],
      "id": "59bc58f3",
      "execution_count": 1,
      "outputs": []
    },
    {
      "cell_type": "code",
      "metadata": {
        "id": "aFh44_cs1WtS"
      },
      "source": [
        "from fastbook import *"
      ],
      "id": "aFh44_cs1WtS",
      "execution_count": 5,
      "outputs": []
    },
    {
      "cell_type": "code",
      "metadata": {
        "id": "dde695b9"
      },
      "source": [
        "#hide\n",
        "def search_images_ddg(term, max_images=200):\n",
        "    \"Search for `term` with DuckDuckGo and return a unique urls of about `max_images` images\"\n",
        "    assert max_images<1000\n",
        "    url = 'https://duckduckgo.com/'\n",
        "    res = urlread(url,data={'q':term})\n",
        "    searchObj = re.search(r'vqd=([\\d-]+)\\&', res)\n",
        "    assert searchObj\n",
        "    requestUrl = url + 'i.js'\n",
        "    params = dict(l='us-en', o='json', q=term, vqd=searchObj.group(1), f=',,,', p='1', v7exp='a')\n",
        "    urls,data = set(),{'next':1}\n",
        "    while len(urls)<max_images and 'next' in data:\n",
        "        try:\n",
        "            data = urljson(requestUrl,data=params)\n",
        "            urls.update(L(data['results']).itemgot('image'))\n",
        "            requestUrl = url + data['next']\n",
        "        except (URLError,HTTPError): pass\n",
        "        time.sleep(0.2)\n",
        "    return L(urls)"
      ],
      "id": "dde695b9",
      "execution_count": 14,
      "outputs": []
    },
    {
      "cell_type": "markdown",
      "metadata": {
        "id": "pzMXUqDwsuBK"
      },
      "source": [
        "## Working with Bears First\n",
        "First we will learn how to train our first ML model to recognise bears images then we will go ahead with \"Modi Beard Experimentation\". In a way this ensures I am on right track and not messedup anything.\n",
        "\n",
        "#### Downloading Images with DuckdDuckGo API"
      ],
      "id": "pzMXUqDwsuBK"
    },
    {
      "cell_type": "code",
      "metadata": {
        "id": "Qh0j_2ts2m5p"
      },
      "source": [
        "bear_types='grizzly','black','teddy'\n",
        "path=Path('bears')\n",
        "if not path.exists():\n",
        "  path.mkdir()\n",
        "  for x in bear_types:\n",
        "    dest=(path/x)\n",
        "    dest.mkdir(exist_ok=True)\n",
        "    urls=search_images_ddg(f'{x} bear',max_images=150)\n",
        "    download_images(dest,urls=urls)\n"
      ],
      "id": "Qh0j_2ts2m5p",
      "execution_count": 17,
      "outputs": []
    },
    {
      "cell_type": "code",
      "metadata": {
        "id": "bHUXwaPR5Cx1",
        "outputId": "55b0109a-4a73-4952-ad41-0efc8d1fb2f9",
        "colab": {
          "base_uri": "https://localhost:8080/"
        }
      },
      "source": [
        "urls"
      ],
      "id": "bHUXwaPR5Cx1",
      "execution_count": 19,
      "outputs": [
        {
          "output_type": "execute_result",
          "data": {
            "text/plain": [
              "(#194) ['https://www.thetoyshoppe.com/images/productslarge/55100c.jpg','http://www.carolwrightgifts.com/gund-teddy-bear_11218_zoom0.jpg','https://image.made-in-china.com/2f0j00NdUtRvuYOLbp/2017-New-Design-Scary-Teddy-Bear-Zombie-Bear-Undead-Bear-Bloody-Bear-Horrible-Teddy-Bear.jpg','https://cdn0.rubylane.com/shops/700632/I-1277.1L.jpg','https://pngimg.com/uploads/teddy_bear/teddy_bear_PNG90.png','https://i2-prod.birminghammail.co.uk/incoming/article17583074.ece/ALTERNATES/s1227b/0_IFP_BEM_160120bears011JPG.jpg','https://d3n8a8pro7vhmx.cloudfront.net/accessalliance/pages/454/meta_images/original/Cute_but_Lonely_Teddy_Bear_Sitting_on_Grass.jpg?1591840883','https://www.onlinetoys.com.au/23673/oscar-teddy-bear-27cm-beige.jpg','http://www.alux.com/wp-content/uploads/2013/12/5.png','http://mylitter.com/wp-content/uploads/2019/02/bear.jpg'...]"
            ]
          },
          "metadata": {
            "tags": []
          },
          "execution_count": 19
        }
      ]
    },
    {
      "cell_type": "code",
      "metadata": {
        "id": "qVeslj095qF_"
      },
      "source": [
        ""
      ],
      "id": "qVeslj095qF_",
      "execution_count": null,
      "outputs": []
    }
  ]
}