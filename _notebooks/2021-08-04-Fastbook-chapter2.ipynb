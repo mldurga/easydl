{
  "nbformat": 4,
  "nbformat_minor": 5,
  "metadata": {
    "kernelspec": {
      "display_name": "Python 3",
      "language": "python",
      "name": "python3"
    },
    "language_info": {
      "codemirror_mode": {
        "name": "ipython",
        "version": 3
      },
      "file_extension": ".py",
      "mimetype": "text/x-python",
      "name": "python",
      "nbconvert_exporter": "python",
      "pygments_lexer": "ipython3",
      "version": "3.8.8"
    },
    "colab": {
      "name": "2021-08-04-Fastbook-chapter2.ipynb",
      "provenance": [],
      "toc_visible": true
    }
  },
  "cells": [
    {
      "cell_type": "markdown",
      "metadata": {
        "id": "52ee6854"
      },
      "source": [
        "# \"Title\"\n",
        "> \"Awesome summary\"\n",
        "\n",
        "- toc: false\n",
        "- branch: master\n",
        "- badges: true\n",
        "- comments: true\n",
        "- categories: [fastpages, jupyter]\n",
        "- image: images/some_folder/your_image.png\n",
        "- hide: false\n",
        "- search_exclude: true\n",
        "- metadata_key1: metadata_value1\n",
        "- metadata_key2: metadata_value2"
      ],
      "id": "52ee6854"
    },
    {
      "cell_type": "markdown",
      "metadata": {
        "id": "3f07b004"
      },
      "source": [
        "## What is Fastai \n",
        "\n",
        "Fastai is front runner and research organisation working on making Deep Learning as democratic as possible with beautiful community support. Fastai in a way cutshorts the path needed for one to become a great ML practitioner and honestly stands to the title of its popular book: [__Deep Learning for coders with fastai & PyTorch (AI Applicaitons without a PhD)__](https://www.amazon.in/Deep-Learning-Coders-fastai-PyTorch/dp/1492045527/ref=sr_1_1?dchild=1&keywords=jeremy+howard&qid=1627333514&sr=8-1). I sincearly want to thank __Mr Jeremy Howard and Mr Sylvain Gugger__ for presenting such an awesome gem in just 600 pages. The series of posts that I am going to write on this book is in a way to solidfy my understanding of the concepts taught in the book and practice writing as encouraged greatly by authors and community. I hope this turns out to be good source to refer for me and beginners who are just behind me. "
      ],
      "id": "3f07b004"
    },
    {
      "cell_type": "markdown",
      "metadata": {
        "id": "d703e7d2"
      },
      "source": [
        "## What tools do you need\n",
        "\n",
        "Mind you we are just beginners and we dont need anything more than [Google colab scratchpad](https://colab.research.google.com/notebooks/empty.ipynb). This will spinup notebook with free GPU (Graphical Processing Unit) for you with just click of a mouse. Great colab tips can be found [here](https://amitness.com/2020/06/google-colaboratory-tips/). Full server notebooks like GCP and AWS instances are still difficult to setup for complete beginners like me. Believe me, I have spent one whole month in understanding how to setup GCP instance. Now almost all the time I spinup colab for any course work for its ease and simplicity. People like [Zachery Mueller](https://github.com/muellerzr), who is like poster child for fastai community, prefers to practice with colab.  "
      ],
      "id": "d703e7d2"
    },
    {
      "cell_type": "markdown",
      "metadata": {
        "id": "c4055d00"
      },
      "source": [
        "## Domains of Deep Learning\n",
        "\n",
        "Deep learning can be applied to wide variety of tasks and tinkering mindset can force one to enable applying it in creative ways. The increasing availabilty of data in any field will provide possible use case and can leverage new insights. However, the current research and practice broadly falls under following categories.\n",
        "\n",
        "### Computer Vision:\n",
        "\n",
        "What do you think Tesla FSD (Full Self Driving) cars equipped with for its Autopilot system? Computer vision plays central bedrock role for autonomous driving. Today computers are as good as people in identifying objects in an image using their neural networks. We take up computer vision in this chapter and slowly expand to other domains as course progress. Any deep learning system predictions depend on the quality of the training data that we provide. Certainly this book provides tools and strategies to get state of the art accuracy with innovative methods even with limited data.\n",
        "\n",
        "### Natural Language Processing NLP:\n",
        " \n",
        "Did you ever hear GPT-3, GPT-2, Transformers, Huggingface, twitter bots, google translate etc. in deep learning space, then all these terms belong to text domain of deep learning. This domain deals with how computers handles text data and its response for a specified task. Today NLP tasks ranges from classifying documents, sentiment analysis (positive, negetive), summarising documents, context appropriate text generation etc. Downside of technology ranges from 'throwing abuses by bot' to 'bot generated twitter trolls at massive scale'. However, Google translate massively used by people in ever increasing multicultural society of today.\n",
        "\n",
        "### Tabular Data & RecSys:\n",
        "\n",
        "Most common ML applications we find at industry is tabular data based. Though traditional ML techniques like random forests and gradient boost techniques still hold good, deep learning offlate making strides into tabular data domain. RecSys - Recommendation System is also type of tabular data but the data is highly cardinal and deep learning can be applied to such data with good results. E-commerce websites like amazon applies deep learning techniques for its user-table to recommend products.  "
      ],
      "id": "c4055d00"
    },
    {
      "cell_type": "markdown",
      "metadata": {
        "id": "968023dd"
      },
      "source": [
        "## Thinking Approach\n",
        "\n",
        "When solving any problem at hand with ML and deep learning techniques, the fundamental thinking approach should be the predictions of the model should be helpful to the real world. Jeremy Howard named this approach as __Drivetrain Approach__ and his elegant presentation can be seen [here](https://www.youtube.com/watch?v=vYrWTDxoeGg&ab_channel=O%27Reilly). His key ideas are as follows:\n",
        "1. Objective: What outcome am I trying to achieve\n",
        "2. Levers: What inputs can we control\n",
        "3. Data: What data can we collect\n",
        "4. Models: How the levers influence the objective\n",
        "\n",
        "Thouogh seemingly simple concept, its application in real world has great impact on the outcome of the modeling. Ingeneral the data we have on hand may not be causal and the outcomes may not represent the actual conditions. If we can control certain input conditions by injecting randomness the causal relationships can be collected and new data will become food for the model and thus accuracy of the predictions can be improved.     "
      ],
      "id": "968023dd"
    },
    {
      "cell_type": "markdown",
      "metadata": {
        "id": "79460b01"
      },
      "source": [
        "## Lets Dive In\n",
        "\n",
        "To make your first dive in experience into deep learning little more interesting, I have choosen a \"Beard Modi\" project. Interesting..! yes. You upload any of the present Indian PM \"Narendra modi\" image, my app will tell wether the image is \"2014 Modi\" or \"2021 Modi\". This we are doing with computer vision deep learning techniques. This notebook will detail each and every step of the process.\n",
        "\n",
        "### Gathering Data\n",
        "Though \"Bing Image Search\" was the primary source referred by book, offlate course.fast.ai website given alternative DuckDuckGo as this one dont need any key. Please read docs for more information on [this](https://course.fast.ai/images#DuckDuckGo). \n"
      ],
      "id": "79460b01"
    },
    {
      "cell_type": "code",
      "metadata": {
        "id": "59bc58f3",
        "outputId": "55e7b795-f2b8-4d44-dd5f-d524088e74e6"
      },
      "source": [
        "#hide\n",
        "!pip install fastbook -Uqq\n",
        "import fastbook\n",
        "fastbook.setup_book()"
      ],
      "id": "59bc58f3",
      "execution_count": null,
      "outputs": [
        {
          "output_type": "stream",
          "text": [
            "ERROR: pip's dependency resolver does not currently take into account all the packages that are installed. This behaviour is the source of the following dependency conflicts.\n",
            "spyder 4.2.5 requires pyqt5<5.13, which is not installed.\n",
            "spyder 4.2.5 requires pyqtwebengine<5.13, which is not installed.\n",
            "Matplotlib is building the font cache; this may take a moment.\n",
            "C:\\Users\\durga\\anaconda3\\lib\\site-packages\\fastbook\\__init__.py:18: UserWarning: Missing `graphviz` - please run `conda install fastbook`\n",
            "  except ModuleNotFoundError: warn(\"Missing `graphviz` - please run `conda install fastbook`\")\n"
          ],
          "name": "stderr"
        }
      ]
    },
    {
      "cell_type": "code",
      "metadata": {
        "id": "dde695b9",
        "outputId": "6ff01660-fedc-40d2-8f07-846c7d65b3ed"
      },
      "source": [
        "!pip show fastai"
      ],
      "id": "dde695b9",
      "execution_count": null,
      "outputs": [
        {
          "output_type": "stream",
          "text": [
            "Name: fastai\n",
            "Version: 2.4.1\n",
            "Summary: fastai simplifies training fast and accurate neural nets using modern best practices\n",
            "Home-page: https://github.com/fastai/fastai/tree/master/\n",
            "Author: Jeremy Howard, Sylvain Gugger, and contributors\n",
            "Author-email: info@fast.ai\n",
            "License: Apache Software License 2.0\n",
            "Location: c:\\users\\durga\\anaconda3\\lib\\site-packages\n",
            "Requires: scipy, torchvision, pip, pillow, spacy, pandas, requests, scikit-learn, packaging, pyyaml, matplotlib, torch, fastcore, fastprogress\n",
            "Required-by: fastbook\n"
          ],
          "name": "stdout"
        }
      ]
    },
    {
      "cell_type": "code",
      "metadata": {
        "id": "4dae0709"
      },
      "source": [
        ""
      ],
      "id": "4dae0709",
      "execution_count": null,
      "outputs": []
    }
  ]
}