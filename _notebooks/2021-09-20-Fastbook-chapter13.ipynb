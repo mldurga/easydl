{
  "nbformat": 4,
  "nbformat_minor": 0,
  "metadata": {
    "colab": {
      "name": "scratchpad",
      "provenance": [],
      "include_colab_link": true
    },
    "kernelspec": {
      "display_name": "Python 3",
      "name": "python3"
    }
  },
  "cells": [
    {
      "cell_type": "markdown",
      "metadata": {
        "id": "view-in-github",
        "colab_type": "text"
      },
      "source": [
        "<a href=\"https://colab.research.google.com/github/mldurga/easydl/blob/master/_notebooks/2021-09-20-Fastbook-chapter13.ipynb\" target=\"_parent\"><img src=\"https://colab.research.google.com/assets/colab-badge.svg\" alt=\"Open In Colab\"/></a>"
      ]
    },
    {
      "cell_type": "markdown",
      "metadata": {
        "id": "4QSsE5guCD-P"
      },
      "source": [
        "# CNN. Fastai chapter 13\n",
        "> Resnet paper Reading\n",
        "\n",
        "- toc: true\n",
        "- branch: master\n",
        "- badges: true\n",
        "- comments: true\n",
        "- categories: [fastpages, jupyter]\n",
        "- image: images/some_folder/your_image.png\n",
        "- hide: true\n",
        "- search_exclude: true\n",
        "- metadata_key1: metadata_value1\n",
        "- metadata_key2: metadata_value2\n"
      ]
    },
    {
      "cell_type": "markdown",
      "metadata": {
        "id": "O-uGCNtoCOEq"
      },
      "source": [
        "## Inroduction\n",
        "CNN - Convolutional Neural Networks, is most famous technique used in computer vision applications off-late. Due to rapid innovation and research in this field, these techniques undergo huge transformations in short period of time. Here is my effort to deliberate upon certain terminology and concepts so that it would not be too scary for beginners like me. This topic is a very basic introduction to the concepts and will write a basic CNN and train a digit classifier. "
      ]
    },
    {
      "cell_type": "markdown",
      "metadata": {
        "id": "t8vXlthDxkPk"
      },
      "source": [
        "## Terminology\n",
        "Following are the general terminology used day in and day out to get to know CNN better. Material from the different blogs were collected inaddition to Fastbook for better clarity and visualisation.\n",
        "\n",
        "### Layers, Filters, Kernels, channels and feature maps\n",
        "\n",
        "#### Layers:\n"
      ]
    },
    {
      "cell_type": "code",
      "metadata": {
        "id": "GfKH_IzxB72i"
      },
      "source": [
        ""
      ],
      "execution_count": null,
      "outputs": []
    }
  ]
}