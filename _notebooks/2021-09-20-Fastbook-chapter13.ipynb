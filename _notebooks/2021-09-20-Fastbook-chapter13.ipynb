{
  "nbformat": 4,
  "nbformat_minor": 0,
  "metadata": {
    "colab": {
      "name": "scratchpad",
      "provenance": [],
      "include_colab_link": true
    },
    "kernelspec": {
      "display_name": "Python 3",
      "name": "python3"
    }
  },
  "cells": [
    {
      "cell_type": "markdown",
      "metadata": {
        "id": "view-in-github",
        "colab_type": "text"
      },
      "source": [
        "<a href=\"https://colab.research.google.com/github/mldurga/easydl/blob/master/_notebooks/2021-09-20-Fastbook-chapter13.ipynb\" target=\"_parent\"><img src=\"https://colab.research.google.com/assets/colab-badge.svg\" alt=\"Open In Colab\"/></a>"
      ]
    },
    {
      "cell_type": "markdown",
      "metadata": {
        "id": "4QSsE5guCD-P"
      },
      "source": [
        "# CNN. Fastai chapter 13\n",
        "> Resnet paper Reading\n",
        "\n",
        "- toc: true\n",
        "- branch: master\n",
        "- badges: true\n",
        "- comments: true\n",
        "- categories: [fastpages, jupyter]\n",
        "- image: images/some_folder/your_image.png\n",
        "- hide: true\n",
        "- search_exclude: true\n",
        "- metadata_key1: metadata_value1\n",
        "- metadata_key2: metadata_value2\n"
      ]
    },
    {
      "cell_type": "markdown",
      "metadata": {
        "id": "O-uGCNtoCOEq"
      },
      "source": [
        "## Inroduction\n",
        "CNN - Convolutional Neural Networks, is most famous technique used in computer vision applications off-late. Due to rapid innovation and research in this field, these techniques undergo huge transformations in short period of time. Here is my effort to deliberate upon certain terminology and concepts so that it would not be too scary for beginners like me. This topic is a very basic introduction to the concepts and will write a basic CNN and train a classifier of handwritten vernacular vowels of my mother-tongue Telugu. "
      ]
    },
    {
      "cell_type": "markdown",
      "metadata": {
        "id": "t8vXlthDxkPk"
      },
      "source": [
        "## Terminology\n",
        "### Neural Networks:\n",
        "Neural networks operates similar to human brain function hence the name. In the context of computer vision, Neural Networks are fed with image type data and output will be any of the deep learning applications like image recognition, object detection or image classification etc. As shown in image, multiple layers of network will get trained to do specified task (ex:image recognition) by applying algorithms and improve accuracy of given task by reducing error.\n",
        "\n",
        "Here I am trying to elobarate things through images to help in visualising actual process.\n",
        "\n",
        "#### General neural network structure\n",
        "\n",
        "<img src=\"https://user-images.githubusercontent.com/19243618/133918945-24184ea9-ed85-4ea8-ba0f-add2c1ba56f1.png\" width=\"400\" height=\"200\">\n",
        "\n",
        "#### Typical Convolutional Neural Network internals\n",
        "<img src=\"https://user-images.githubusercontent.com/19243618/133940852-c044e6ec-34b4-4226-ba51-d31f383a64f1.png\" width=\"1000\" height=\"200\">\n",
        "                       \n",
        "\n",
        "Above two visualisations may help in visualising the process of transformation of image data in pixels to useful output \n",
        "\n",
        "\n",
        "Following are the general terminology used day in and day out to get to know CNN better. Material from the different blogs were collected inaddition to Fastbook for better clarity and visualisation.\n",
        "\n",
        "### Layers, Filters, Kernels, channels and feature maps\n",
        "\n",
        "#### Layers:\n",
        "\n",
        "<img src=\"https://user-images.githubusercontent.com/19243618/133918732-a317f3b2-7abe-4a20-a7a7-9c6e0661ae7c.png\" width =\"400\" height = \"300\">\n"
      ]
    },
    {
      "cell_type": "code",
      "metadata": {
        "id": "GfKH_IzxB72i"
      },
      "source": [
        ""
      ],
      "execution_count": null,
      "outputs": []
    }
  ]
}