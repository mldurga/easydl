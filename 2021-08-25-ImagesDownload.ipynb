{
  "nbformat": 4,
  "nbformat_minor": 0,
  "metadata": {
    "colab": {
      "name": "scratchpad",
      "provenance": [],
      "include_colab_link": true
    },
    "kernelspec": {
      "display_name": "Python 3",
      "name": "python3"
    }
  },
  "cells": [
    {
      "cell_type": "markdown",
      "metadata": {
        "id": "view-in-github",
        "colab_type": "text"
      },
      "source": [
        "<a href=\"https://colab.research.google.com/github/mldurga/easydl/blob/master/2021-08-25-ImagesDownload.ipynb\" target=\"_parent\"><img src=\"https://colab.research.google.com/assets/colab-badge.svg\" alt=\"Open In Colab\"/></a>"
      ]
    },
    {
      "cell_type": "markdown",
      "metadata": {
        "id": "HdlbKOd85UTv"
      },
      "source": [
        "# Images downloading methods\n",
        "Following are the ways I used to download images from internet for data analysis purpose\n",
        "\n",
        "\n",
        "*   Using ```search_image_ddg```\n",
        "*   Using [Pyimage search method](https://www.pyimagesearch.com/2017/12/04/how-to-create-a-deep-learning-dataset-using-google-images/)\n",
        "\n"
      ]
    },
    {
      "cell_type": "markdown",
      "metadata": {
        "id": "CtnuYrKu5QW5"
      },
      "source": [
        "## search_image_ddg method\n",
        "\n",
        "From fastbook webiste you can see the documentaion, however here I repordice code snippet for easy usage."
      ]
    },
    {
      "cell_type": "code",
      "metadata": {
        "id": "VS7GGe6wnGML",
        "outputId": "8b1f37db-5123-4fcb-a34d-540ff304525a",
        "colab": {
          "base_uri": "https://localhost:8080/"
        }
      },
      "source": [
        "!pip install fastbook -Uqq\n",
        "import fastbook\n",
        "fastbook.setup_book()"
      ],
      "execution_count": 1,
      "outputs": [
        {
          "output_type": "stream",
          "text": [
            "Mounted at /content/gdrive\n"
          ],
          "name": "stdout"
        }
      ]
    },
    {
      "cell_type": "code",
      "metadata": {
        "id": "1TPOja_e6MUy"
      },
      "source": [
        "from fastbook import *"
      ],
      "execution_count": 27,
      "outputs": []
    },
    {
      "cell_type": "code",
      "metadata": {
        "id": "uBFHdoWYoEi3"
      },
      "source": [
        "def search_images_ddg(term, max_images=200): # search_image_ddg in fastbook version has some issues so defining seperately\n",
        "    \"Search for `term` with DuckDuckGo and return a unique urls of about `max_images` images\"\n",
        "    assert max_images<1000\n",
        "    url = 'https://duckduckgo.com/'\n",
        "    res = urlread(url,data={'q':term})\n",
        "    searchObj = re.search(r'vqd=([\\d-]+)\\&', res)\n",
        "    assert searchObj\n",
        "    requestUrl = url + 'i.js'\n",
        "    params = dict(l='us-en', o='json', q=term, vqd=searchObj.group(1), f=',,,', p='1', v7exp='a')\n",
        "    urls,data = set(),{'next':1}\n",
        "    while len(urls)<max_images and 'next' in data:\n",
        "        try:\n",
        "            data = urljson(requestUrl,data=params)\n",
        "            urls.update(L(data['results']).itemgot('image'))\n",
        "            requestUrl = url + data['next']\n",
        "        except (URLError,HTTPError): pass\n",
        "        time.sleep(0.2)\n",
        "    return L(urls)"
      ],
      "execution_count": 28,
      "outputs": []
    },
    {
      "cell_type": "code",
      "metadata": {
        "id": "VZh80JeepP82"
      },
      "source": [
        "results = search_images_ddg('search word', max_images=300)"
      ],
      "execution_count": 24,
      "outputs": []
    },
    {
      "cell_type": "code",
      "metadata": {
        "id": "DAXAGqqQ6RVn"
      },
      "source": [
        "download_images(dest, urls=results) #destination folder path"
      ],
      "execution_count": null,
      "outputs": []
    },
    {
      "cell_type": "markdown",
      "metadata": {
        "id": "7QE3fH8L6i9J"
      },
      "source": [
        "## Using pyimage search method\n",
        "\n",
        "Pyimage search is well known for computer vision tutorials and Mr Adrian Rosebrock has given code snippet in his blog [here](https://www.pyimagesearch.com/2017/12/04/how-to-create-a-deep-learning-dataset-using-google-images/)\n",
        "\n",
        "You only need to copy the following code snippet into the javascript console and type enter. Text file will be downloaded comprising all urls related to the searched images. javascript console will be opened in browser by pressing ```F12``` key in either mozilla firefox or chrome."
      ]
    },
    {
      "cell_type": "code",
      "metadata": {
        "id": "73io6Pjf8Euu"
      },
      "source": [
        "function simulateRightClick( element ) {\n",
        "    var event1 = new MouseEvent( 'mousedown', {\n",
        "        bubbles: true,\n",
        "        cancelable: false,\n",
        "        view: window,\n",
        "        button: 2,\n",
        "        buttons: 2,\n",
        "        clientX: element.getBoundingClientRect().x,\n",
        "        clientY: element.getBoundingClientRect().y\n",
        "    } );\n",
        "    element.dispatchEvent( event1 );\n",
        "    var event2 = new MouseEvent( 'mouseup', {\n",
        "        bubbles: true,\n",
        "        cancelable: false,\n",
        "        view: window,\n",
        "        button: 2,\n",
        "        buttons: 0,\n",
        "        clientX: element.getBoundingClientRect().x,\n",
        "        clientY: element.getBoundingClientRect().y\n",
        "    } );\n",
        "    element.dispatchEvent( event2 );\n",
        "    var event3 = new MouseEvent( 'contextmenu', {\n",
        "        bubbles: true,\n",
        "        cancelable: false,\n",
        "        view: window,\n",
        "        button: 2,\n",
        "        buttons: 0,\n",
        "        clientX: element.getBoundingClientRect().x,\n",
        "        clientY: element.getBoundingClientRect().y\n",
        "    } );\n",
        "    element.dispatchEvent( event3 );\n",
        "}\n",
        "\n",
        "function getURLParam( queryString, key ) {\n",
        "    var vars = queryString.replace( /^\\?/, '' ).split( '&' );\n",
        "    for ( let i = 0; i < vars.length; i++ ) {\n",
        "        let pair = vars[ i ].split( '=' );\n",
        "        if ( pair[0] == key ) {\n",
        "            return pair[1];\n",
        "        }\n",
        "    }\n",
        "    return false;\n",
        "}\n",
        "\n",
        "function createDownload( contents ) {\n",
        "    var hiddenElement = document.createElement( 'a' );\n",
        "    hiddenElement.href = 'data:attachment/text,' + encodeURI( contents );\n",
        "    hiddenElement.target = '_blank';\n",
        "    hiddenElement.download = 'urls.txt';\n",
        "    hiddenElement.click();\n",
        "}\n",
        "\n",
        "function grabUrls() {\n",
        "    var urls = [];\n",
        "    return new Promise( function( resolve, reject ) {\n",
        "        var count = document.querySelectorAll(\n",
        "        \t'.isv-r a:first-of-type' ).length,\n",
        "            index = 0;\n",
        "        Array.prototype.forEach.call( document.querySelectorAll(\n",
        "        \t'.isv-r a:first-of-type' ), function( element ) {\n",
        "            // using the right click menu Google will generate the\n",
        "            // full-size URL; won't work in Internet Explorer\n",
        "            // (http://pyimg.co/byukr)\n",
        "            simulateRightClick( element.querySelector( ':scope img' ) );\n",
        "            // Wait for it to appear on the <a> element\n",
        "            var interval = setInterval( function() {\n",
        "                if ( element.href.trim() !== '' ) {\n",
        "                    clearInterval( interval );\n",
        "                    // extract the full-size version of the image\n",
        "                    let googleUrl = element.href.replace( /.*(\\?)/, '$1' ),\n",
        "                        fullImageUrl = decodeURIComponent(\n",
        "                        \tgetURLParam( googleUrl, 'imgurl' ) );\n",
        "                    if ( fullImageUrl !== 'false' ) {\n",
        "                        urls.push( fullImageUrl );\n",
        "                    }\n",
        "                    // sometimes the URL returns a \"false\" string and\n",
        "                    // we still want to count those so our Promise\n",
        "                    // resolves\n",
        "                    index++;\n",
        "                    if ( index == ( count - 1 ) ) {\n",
        "                        resolve( urls );\n",
        "                    }\n",
        "                }\n",
        "            }, 10 );\n",
        "        } );\n",
        "    } );\n",
        "}\n",
        "\n",
        "grabUrls().then( function( urls ) {\n",
        "    urls = urls.join( '\\n' );\n",
        "    createDownload( urls );\n",
        "} );"
      ],
      "execution_count": null,
      "outputs": []
    },
    {
      "cell_type": "markdown",
      "metadata": {
        "id": "2sgno6V98fuC"
      },
      "source": [
        "After downloading the urls text file, upload to the jupyter notebook or download the images just as before\n"
      ]
    },
    {
      "cell_type": "code",
      "metadata": {
        "id": "4lLgNUzD8p5a"
      },
      "source": [
        "download_images(dest='./file', urls='/content/urls.txt')"
      ],
      "execution_count": 33,
      "outputs": []
    },
    {
      "cell_type": "code",
      "metadata": {
        "id": "VmkAus4y80EI"
      },
      "source": [
        ""
      ],
      "execution_count": null,
      "outputs": []
    }
  ]
}